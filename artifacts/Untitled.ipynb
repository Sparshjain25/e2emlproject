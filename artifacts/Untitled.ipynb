{
 "cells": [
  {
   "cell_type": "code",
   "execution_count": 16,
   "id": "af6a438f",
   "metadata": {},
   "outputs": [],
   "source": [
    "import pandas as pd\n",
    "import numpy as np\n",
    "from sklearn.model_selection import train_test_split\n",
    "from dataclasses import dataclass\n"
   ]
  },
  {
   "cell_type": "code",
   "execution_count": 17,
   "id": "54b02cce",
   "metadata": {},
   "outputs": [
    {
     "data": {
      "text/html": [
       "<div>\n",
       "<style scoped>\n",
       "    .dataframe tbody tr th:only-of-type {\n",
       "        vertical-align: middle;\n",
       "    }\n",
       "\n",
       "    .dataframe tbody tr th {\n",
       "        vertical-align: top;\n",
       "    }\n",
       "\n",
       "    .dataframe thead th {\n",
       "        text-align: right;\n",
       "    }\n",
       "</style>\n",
       "<table border=\"1\" class=\"dataframe\">\n",
       "  <thead>\n",
       "    <tr style=\"text-align: right;\">\n",
       "      <th></th>\n",
       "      <th>id</th>\n",
       "      <th>person_age</th>\n",
       "      <th>person_income</th>\n",
       "      <th>person_home_ownership</th>\n",
       "      <th>person_emp_length</th>\n",
       "      <th>loan_intent</th>\n",
       "      <th>loan_grade</th>\n",
       "      <th>loan_amnt</th>\n",
       "      <th>loan_int_rate</th>\n",
       "      <th>loan_percent_income</th>\n",
       "      <th>cb_person_default_on_file</th>\n",
       "      <th>cb_person_cred_hist_length</th>\n",
       "      <th>loan_status</th>\n",
       "    </tr>\n",
       "  </thead>\n",
       "  <tbody>\n",
       "    <tr>\n",
       "      <th>0</th>\n",
       "      <td>14337</td>\n",
       "      <td>36</td>\n",
       "      <td>50000</td>\n",
       "      <td>RENT</td>\n",
       "      <td>0.0</td>\n",
       "      <td>HOMEIMPROVEMENT</td>\n",
       "      <td>C</td>\n",
       "      <td>7200</td>\n",
       "      <td>13.85</td>\n",
       "      <td>0.14</td>\n",
       "      <td>Y</td>\n",
       "      <td>15</td>\n",
       "      <td>0</td>\n",
       "    </tr>\n",
       "    <tr>\n",
       "      <th>1</th>\n",
       "      <td>17117</td>\n",
       "      <td>27</td>\n",
       "      <td>43200</td>\n",
       "      <td>RENT</td>\n",
       "      <td>3.0</td>\n",
       "      <td>DEBTCONSOLIDATION</td>\n",
       "      <td>C</td>\n",
       "      <td>5000</td>\n",
       "      <td>11.66</td>\n",
       "      <td>0.12</td>\n",
       "      <td>Y</td>\n",
       "      <td>9</td>\n",
       "      <td>0</td>\n",
       "    </tr>\n",
       "    <tr>\n",
       "      <th>2</th>\n",
       "      <td>32590</td>\n",
       "      <td>25</td>\n",
       "      <td>70000</td>\n",
       "      <td>MORTGAGE</td>\n",
       "      <td>0.0</td>\n",
       "      <td>EDUCATION</td>\n",
       "      <td>A</td>\n",
       "      <td>8000</td>\n",
       "      <td>7.88</td>\n",
       "      <td>0.11</td>\n",
       "      <td>N</td>\n",
       "      <td>3</td>\n",
       "      <td>0</td>\n",
       "    </tr>\n",
       "    <tr>\n",
       "      <th>3</th>\n",
       "      <td>55811</td>\n",
       "      <td>39</td>\n",
       "      <td>75000</td>\n",
       "      <td>MORTGAGE</td>\n",
       "      <td>2.0</td>\n",
       "      <td>DEBTCONSOLIDATION</td>\n",
       "      <td>A</td>\n",
       "      <td>15000</td>\n",
       "      <td>6.54</td>\n",
       "      <td>0.20</td>\n",
       "      <td>N</td>\n",
       "      <td>11</td>\n",
       "      <td>0</td>\n",
       "    </tr>\n",
       "    <tr>\n",
       "      <th>4</th>\n",
       "      <td>40120</td>\n",
       "      <td>22</td>\n",
       "      <td>45600</td>\n",
       "      <td>RENT</td>\n",
       "      <td>5.0</td>\n",
       "      <td>MEDICAL</td>\n",
       "      <td>A</td>\n",
       "      <td>4000</td>\n",
       "      <td>7.66</td>\n",
       "      <td>0.09</td>\n",
       "      <td>N</td>\n",
       "      <td>2</td>\n",
       "      <td>0</td>\n",
       "    </tr>\n",
       "  </tbody>\n",
       "</table>\n",
       "</div>"
      ],
      "text/plain": [
       "      id  person_age  person_income person_home_ownership  person_emp_length  \\\n",
       "0  14337          36          50000                  RENT                0.0   \n",
       "1  17117          27          43200                  RENT                3.0   \n",
       "2  32590          25          70000              MORTGAGE                0.0   \n",
       "3  55811          39          75000              MORTGAGE                2.0   \n",
       "4  40120          22          45600                  RENT                5.0   \n",
       "\n",
       "         loan_intent loan_grade  loan_amnt  loan_int_rate  \\\n",
       "0    HOMEIMPROVEMENT          C       7200          13.85   \n",
       "1  DEBTCONSOLIDATION          C       5000          11.66   \n",
       "2          EDUCATION          A       8000           7.88   \n",
       "3  DEBTCONSOLIDATION          A      15000           6.54   \n",
       "4            MEDICAL          A       4000           7.66   \n",
       "\n",
       "   loan_percent_income cb_person_default_on_file  cb_person_cred_hist_length  \\\n",
       "0                 0.14                         Y                          15   \n",
       "1                 0.12                         Y                           9   \n",
       "2                 0.11                         N                           3   \n",
       "3                 0.20                         N                          11   \n",
       "4                 0.09                         N                           2   \n",
       "\n",
       "   loan_status  \n",
       "0            0  \n",
       "1            0  \n",
       "2            0  \n",
       "3            0  \n",
       "4            0  "
      ]
     },
     "execution_count": 17,
     "metadata": {},
     "output_type": "execute_result"
    }
   ],
   "source": [
    "df=pd.read_csv(\"train.csv\")\n",
    "df.head()"
   ]
  },
  {
   "cell_type": "code",
   "execution_count": 18,
   "id": "f1980311",
   "metadata": {},
   "outputs": [
    {
     "data": {
      "text/plain": [
       "array(['Y', 'N'], dtype=object)"
      ]
     },
     "execution_count": 18,
     "metadata": {},
     "output_type": "execute_result"
    }
   ],
   "source": [
    "df[\"cb_person_default_on_file\"].unique()"
   ]
  },
  {
   "cell_type": "code",
   "execution_count": 19,
   "id": "a23ea5db",
   "metadata": {},
   "outputs": [],
   "source": [
    "train_set,test_set=train_test_split(df,test_size=0.2,random_state=42)  #Change this"
   ]
  },
  {
   "cell_type": "code",
   "execution_count": 23,
   "id": "f8499ad2",
   "metadata": {},
   "outputs": [
    {
     "name": "stdout",
     "output_type": "stream",
     "text": [
      "<class 'pandas.core.frame.DataFrame'>\n",
      "RangeIndex: 46916 entries, 0 to 46915\n",
      "Data columns (total 13 columns):\n",
      " #   Column                      Non-Null Count  Dtype  \n",
      "---  ------                      --------------  -----  \n",
      " 0   id                          46916 non-null  int64  \n",
      " 1   person_age                  46916 non-null  int64  \n",
      " 2   person_income               46916 non-null  int64  \n",
      " 3   person_home_ownership       46916 non-null  object \n",
      " 4   person_emp_length           46916 non-null  float64\n",
      " 5   loan_intent                 46916 non-null  object \n",
      " 6   loan_grade                  46916 non-null  object \n",
      " 7   loan_amnt                   46916 non-null  int64  \n",
      " 8   loan_int_rate               46916 non-null  float64\n",
      " 9   loan_percent_income         46916 non-null  float64\n",
      " 10  cb_person_default_on_file   46916 non-null  object \n",
      " 11  cb_person_cred_hist_length  46916 non-null  int64  \n",
      " 12  loan_status                 46916 non-null  int64  \n",
      "dtypes: float64(3), int64(6), object(4)\n",
      "memory usage: 4.7+ MB\n"
     ]
    }
   ],
   "source": [
    "df.info()"
   ]
  },
  {
   "cell_type": "code",
   "execution_count": null,
   "id": "03815828",
   "metadata": {},
   "outputs": [],
   "source": []
  }
 ],
 "metadata": {
  "kernelspec": {
   "display_name": "Python 3 (ipykernel)",
   "language": "python",
   "name": "python3"
  },
  "language_info": {
   "codemirror_mode": {
    "name": "ipython",
    "version": 3
   },
   "file_extension": ".py",
   "mimetype": "text/x-python",
   "name": "python",
   "nbconvert_exporter": "python",
   "pygments_lexer": "ipython3",
   "version": "3.11.1"
  }
 },
 "nbformat": 4,
 "nbformat_minor": 5
}
